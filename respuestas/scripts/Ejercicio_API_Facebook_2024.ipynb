{
  "nbformat": 4,
  "nbformat_minor": 0,
  "metadata": {
    "colab": {
      "provenance": []
    },
    "kernelspec": {
      "name": "python3",
      "display_name": "Python 3"
    },
    "language_info": {
      "name": "python"
    }
  },
  "cells": [
    {
      "cell_type": "code",
      "execution_count": null,
      "metadata": {
        "id": "U5RI-_BrlO9Z",
        "colab": {
          "base_uri": "https://localhost:8080/"
        },
        "outputId": "a2d20797-5295-493a-e418-bd2f9486af75",
        "collapsed": true
      },
      "outputs": [
        {
          "output_type": "stream",
          "name": "stdout",
          "text": [
            "Collecting facebook_business\n",
            "  Downloading facebook_business-21.0.3-py3-none-any.whl.metadata (18 kB)\n",
            "Requirement already satisfied: requests>=2.3.0 in /usr/local/lib/python3.10/dist-packages (from facebook_business) (2.32.3)\n",
            "Requirement already satisfied: six>=1.7.3 in /usr/local/lib/python3.10/dist-packages (from facebook_business) (1.16.0)\n",
            "Collecting curlify>=2.1.0 (from facebook_business)\n",
            "  Downloading curlify-2.2.1.tar.gz (3.0 kB)\n",
            "  Preparing metadata (setup.py) ... \u001b[?25l\u001b[?25hdone\n",
            "Collecting pycountry>=19.8.18 (from facebook_business)\n",
            "  Downloading pycountry-24.6.1-py3-none-any.whl.metadata (12 kB)\n",
            "Requirement already satisfied: aiohttp in /usr/local/lib/python3.10/dist-packages (from facebook_business) (3.10.10)\n",
            "Requirement already satisfied: charset-normalizer<4,>=2 in /usr/local/lib/python3.10/dist-packages (from requests>=2.3.0->facebook_business) (3.4.0)\n",
            "Requirement already satisfied: idna<4,>=2.5 in /usr/local/lib/python3.10/dist-packages (from requests>=2.3.0->facebook_business) (3.10)\n",
            "Requirement already satisfied: urllib3<3,>=1.21.1 in /usr/local/lib/python3.10/dist-packages (from requests>=2.3.0->facebook_business) (2.2.3)\n",
            "Requirement already satisfied: certifi>=2017.4.17 in /usr/local/lib/python3.10/dist-packages (from requests>=2.3.0->facebook_business) (2024.8.30)\n",
            "Requirement already satisfied: aiohappyeyeballs>=2.3.0 in /usr/local/lib/python3.10/dist-packages (from aiohttp->facebook_business) (2.4.3)\n",
            "Requirement already satisfied: aiosignal>=1.1.2 in /usr/local/lib/python3.10/dist-packages (from aiohttp->facebook_business) (1.3.1)\n",
            "Requirement already satisfied: attrs>=17.3.0 in /usr/local/lib/python3.10/dist-packages (from aiohttp->facebook_business) (24.2.0)\n",
            "Requirement already satisfied: frozenlist>=1.1.1 in /usr/local/lib/python3.10/dist-packages (from aiohttp->facebook_business) (1.5.0)\n",
            "Requirement already satisfied: multidict<7.0,>=4.5 in /usr/local/lib/python3.10/dist-packages (from aiohttp->facebook_business) (6.1.0)\n",
            "Requirement already satisfied: yarl<2.0,>=1.12.0 in /usr/local/lib/python3.10/dist-packages (from aiohttp->facebook_business) (1.16.0)\n",
            "Requirement already satisfied: async-timeout<5.0,>=4.0 in /usr/local/lib/python3.10/dist-packages (from aiohttp->facebook_business) (4.0.3)\n",
            "Requirement already satisfied: typing-extensions>=4.1.0 in /usr/local/lib/python3.10/dist-packages (from multidict<7.0,>=4.5->aiohttp->facebook_business) (4.12.2)\n",
            "Requirement already satisfied: propcache>=0.2.0 in /usr/local/lib/python3.10/dist-packages (from yarl<2.0,>=1.12.0->aiohttp->facebook_business) (0.2.0)\n",
            "Downloading facebook_business-21.0.3-py3-none-any.whl (1.4 MB)\n",
            "\u001b[2K   \u001b[90m━━━━━━━━━━━━━━━━━━━━━━━━━━━━━━━━━━━━━━━━\u001b[0m \u001b[32m1.4/1.4 MB\u001b[0m \u001b[31m12.0 MB/s\u001b[0m eta \u001b[36m0:00:00\u001b[0m\n",
            "\u001b[?25hDownloading pycountry-24.6.1-py3-none-any.whl (6.3 MB)\n",
            "\u001b[2K   \u001b[90m━━━━━━━━━━━━━━━━━━━━━━━━━━━━━━━━━━━━━━━━\u001b[0m \u001b[32m6.3/6.3 MB\u001b[0m \u001b[31m48.9 MB/s\u001b[0m eta \u001b[36m0:00:00\u001b[0m\n",
            "\u001b[?25hBuilding wheels for collected packages: curlify\n",
            "  Building wheel for curlify (setup.py) ... \u001b[?25l\u001b[?25hdone\n",
            "  Created wheel for curlify: filename=curlify-2.2.1-py3-none-any.whl size=2667 sha256=d78e79594fbe9bd80a0e8c22e0b7a1f20b5cb41fceb6e911761bbb697c1953c2\n",
            "  Stored in directory: /root/.cache/pip/wheels/01/e8/2f/e0e986ab1e8956d5ad10aabc059767c822d6114ed295a28dd5\n",
            "Successfully built curlify\n",
            "Installing collected packages: pycountry, curlify, facebook_business\n",
            "Successfully installed curlify-2.2.1 facebook_business-21.0.3 pycountry-24.6.1\n"
          ]
        }
      ],
      "source": [
        "pip install facebook_business"
      ]
    },
    {
      "cell_type": "code",
      "source": [
        "from facebook_business.adobjects.adaccount import AdAccount\n",
        "from facebook_business.adobjects.campaign import Campaign\n",
        "from facebook_business.adobjects.adset import AdSet\n",
        "from facebook_business.adobjects.adcreative import AdCreative\n",
        "from facebook_business.adobjects.ad import Ad\n",
        "from facebook_business.adobjects.adpreview import AdPreview\n",
        "from facebook_business.api import FacebookAdsApi\n",
        "\n",
        "access_token = 'EAADkIe4Awv8BO5yqBkJOyQeFdhhz7ezInyKPltyqICixPJCTu9Db42KbhP5ZA1A7nYPekZBLid4MJ15tZCaBGIiBZAqgkrav7HOAIqZCNcjDF1xmZCZAniZCsD7mYPN4U7PvOXr8EVASPsrCLlaOhVck2CrUtenjqEZCo4sNpFYxWcEOB8bZCVA4Ik18vfv20yyTgAGwxZBHLNI'\n",
        "ad_account_id = 'act_944345966732998'\n",
        "app_secret = '12551f214206fa1f2d6a48c1fae03c07'\n",
        "page_id = '117688647912529'\n",
        "app_id = '250834378081023'\n",
        "FacebookAdsApi.init(access_token=access_token)\n"
      ],
      "metadata": {
        "id": "GH02vNpulSjW",
        "colab": {
          "base_uri": "https://localhost:8080/"
        },
        "outputId": "e608e549-42cd-4fd8-d5c1-f31f1059f5ed"
      },
      "execution_count": null,
      "outputs": [
        {
          "output_type": "execute_result",
          "data": {
            "text/plain": [
              "<facebook_business.api.FacebookAdsApi at 0x7d20fd5b8070>"
            ]
          },
          "metadata": {},
          "execution_count": 2
        }
      ]
    },
    {
      "cell_type": "code",
      "source": [
        "my_account = AdAccount(ad_account_id)\n",
        "\n",
        "name_account = my_account.api_get(fields=  [AdAccount.Field.name])[\"name\"]\n",
        "\n",
        "print(name_account)"
      ],
      "metadata": {
        "id": "ruGbBkP2lXTT",
        "colab": {
          "base_uri": "https://localhost:8080/"
        },
        "outputId": "14148ceb-e0f1-430c-8ef7-4d93722ed218"
      },
      "execution_count": null,
      "outputs": [
        {
          "output_type": "stream",
          "name": "stdout",
          "text": [
            "New Sandbox Ad Account\n"
          ]
        }
      ]
    }
  ]
}